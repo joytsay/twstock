{
 "cells": [
  {
   "cell_type": "markdown",
   "metadata": {
    "collapsed": true
   },
   "source": [
    "# twStock notebook\n",
    "\n",
    "------\n",
    "\n",
    "\n",
    "## 目的\n",
    "1. 擷取台股即時資料分析\n",
    "2. 分析個股定期不定額\n",
    "3. **注意台股TWSE 有request limit** _(每5秒鐘3個request,過的話會被封鎖ip至少20分鐘以上)_\n",
    "4. https://www.twse.com.tw/zh/\n",
    "------"
   ]
  },
  {
   "cell_type": "markdown",
   "metadata": {},
   "source": [
    "# 第一金\n",
    "* 畫出十年 股票價 及 成交量"
   ]
  },
  {
   "cell_type": "code",
   "execution_count": 1,
   "metadata": {},
   "outputs": [
    {
     "name": "stdout",
     "output_type": "stream",
     "text": [
      "fetch from 2020/5, time:2\n",
      "fetch from 2020/6, time:0\n",
      "fetch from 2020/7, time:0\n",
      "fetch from 2020/1, time:1\n",
      "fetch from 2020/2, time:5\n",
      "fetch from 2020/3, time:2\n",
      "fetch from 2020/4, time:5\n",
      "fetch from 2020/5, time:0\n",
      "fetch from 2020/6, time:3\n",
      "fetch from 2020/7, time:0\n"
     ]
    }
   ],
   "source": [
    "import twstock\n",
    "from twstock import Stock\n",
    "from twstock import BestFourPoint\n",
    "import pandas as pd\n",
    "import numpy as np\n",
    "import matplotlib as plt\n",
    "import time\n",
    "import datetime\n",
    "\n",
    "start = time.time()\n",
    "stock = Stock('2892')          # 擷取第一金股價\n",
    "stock.fetch_from(2020, 1)\n",
    "\n",
    "done = time.time()\n",
    "elapsed = int(done - start)\n",
    "# print('Time used: '+ str(elapsed) + 'sec for request time limit')"
   ]
  },
  {
   "cell_type": "markdown",
   "metadata": {},
   "source": [
    "### 近五日的收盤價"
   ]
  },
  {
   "cell_type": "code",
   "execution_count": 2,
   "metadata": {},
   "outputs": [
    {
     "name": "stdout",
     "output_type": "stream",
     "text": [
      "[22.65, 22.75, 22.9, 22.95, 23.25]\n"
     ]
    }
   ],
   "source": [
    "print(stock.price[-5:])"
   ]
  },
  {
   "cell_type": "markdown",
   "metadata": {},
   "source": [
    "### 近五日的最高價"
   ]
  },
  {
   "cell_type": "code",
   "execution_count": 3,
   "metadata": {},
   "outputs": [
    {
     "name": "stdout",
     "output_type": "stream",
     "text": [
      "[22.8, 22.95, 22.95, 23.1, 23.25]\n"
     ]
    }
   ],
   "source": [
    "print(stock.high[-5:])"
   ]
  },
  {
   "cell_type": "markdown",
   "metadata": {},
   "source": [
    "### 近五日的最低價"
   ]
  },
  {
   "cell_type": "code",
   "execution_count": 4,
   "metadata": {},
   "outputs": [
    {
     "name": "stdout",
     "output_type": "stream",
     "text": [
      "[22.6, 22.7, 22.75, 22.9, 23.0]\n"
     ]
    }
   ],
   "source": [
    "print(stock.low[-5:])"
   ]
  },
  {
   "cell_type": "code",
   "execution_count": 10,
   "metadata": {},
   "outputs": [
    {
     "name": "stdout",
     "output_type": "stream",
     "text": [
      "<class 'str'>\n",
      "2003/01/02\n"
     ]
    }
   ],
   "source": [
    "stockNumberID = '2892'\n",
    "info = twstock.codes[stockNumberID] \n",
    "print(type(info.start))\n",
    "print(info.start)"
   ]
  },
  {
   "cell_type": "markdown",
   "metadata": {},
   "source": [
    "### 股市圖"
   ]
  },
  {
   "cell_type": "code",
   "execution_count": 11,
   "metadata": {},
   "outputs": [
    {
     "name": "stdout",
     "output_type": "stream",
     "text": [
      "fetch from 2020/5, time:5\n",
      "fetch from 2020/6, time:2\n",
      "fetch from 2020/7, time:0\n",
      "fetch from 2010/1, time:4\n",
      "fetch from 2010/2, time:5\n",
      "fetch from 2010/3, time:3\n",
      "fetch from 2010/4, time:5\n",
      "fetch from 2010/5, time:5\n",
      "fetch from 2010/6, time:4\n",
      "fetch from 2010/7, time:0\n",
      "fetch from 2010/8, time:0\n",
      "fetch from 2010/9, time:1\n",
      "fetch from 2010/10, time:5\n",
      "fetch from 2010/11, time:1\n",
      "fetch from 2010/12, time:4\n",
      "fetch from 2011/1, time:3\n",
      "fetch from 2011/2, time:3\n",
      "fetch from 2011/3, time:0\n",
      "fetch from 2011/4, time:1\n",
      "fetch from 2011/5, time:4\n",
      "fetch from 2011/6, time:4\n",
      "fetch from 2011/7, time:3\n",
      "fetch from 2011/8, time:5\n",
      "fetch from 2011/9, time:4\n",
      "fetch from 2011/10, time:2\n",
      "fetch from 2011/11, time:0\n",
      "fetch from 2011/12, time:3\n",
      "fetch from 2012/1, time:4\n",
      "fetch from 2012/2, time:5\n",
      "fetch from 2012/3, time:1\n",
      "fetch from 2012/4, time:0\n",
      "fetch from 2012/5, time:1\n",
      "fetch from 2012/6, time:2\n",
      "fetch from 2012/7, time:2\n",
      "fetch from 2012/8, time:0\n",
      "fetch from 2012/9, time:2\n",
      "fetch from 2012/10, time:4\n",
      "fetch from 2012/11, time:2\n",
      "fetch from 2012/12, time:5\n",
      "fetch from 2013/1, time:2\n",
      "fetch from 2013/2, time:1\n",
      "fetch from 2013/3, time:3\n",
      "fetch from 2013/4, time:5\n",
      "fetch from 2013/5, time:2\n",
      "fetch from 2013/6, time:0\n",
      "fetch from 2013/7, time:0\n",
      "fetch from 2013/8, time:0\n",
      "fetch from 2013/9, time:0\n",
      "fetch from 2013/10, time:5\n",
      "fetch from 2013/11, time:1\n",
      "fetch from 2013/12, time:2\n",
      "fetch from 2014/1, time:4\n",
      "fetch from 2014/2, time:4\n",
      "fetch from 2014/3, time:3\n",
      "fetch from 2014/4, time:3\n",
      "fetch from 2014/5, time:0\n",
      "fetch from 2014/6, time:4\n",
      "fetch from 2014/7, time:0\n",
      "fetch from 2014/8, time:2\n",
      "fetch from 2014/9, time:1\n",
      "fetch from 2014/10, time:4\n",
      "fetch from 2014/11, time:5\n",
      "fetch from 2014/12, time:2\n",
      "fetch from 2015/1, time:5\n",
      "fetch from 2015/2, time:0\n",
      "fetch from 2015/3, time:2\n",
      "fetch from 2015/4, time:0\n",
      "fetch from 2015/5, time:4\n",
      "fetch from 2015/6, time:2\n",
      "fetch from 2015/7, time:3\n",
      "fetch from 2015/8, time:4\n",
      "fetch from 2015/9, time:0\n",
      "fetch from 2015/10, time:1\n",
      "fetch from 2015/11, time:5\n",
      "fetch from 2015/12, time:4\n",
      "fetch from 2016/1, time:5\n",
      "fetch from 2016/2, time:2\n",
      "fetch from 2016/3, time:4\n",
      "fetch from 2016/4, time:0\n",
      "fetch from 2016/5, time:0\n",
      "fetch from 2016/6, time:2\n",
      "fetch from 2016/7, time:4\n",
      "fetch from 2016/8, time:1\n",
      "fetch from 2016/9, time:0\n",
      "fetch from 2016/10, time:3\n",
      "fetch from 2016/11, time:2\n",
      "fetch from 2016/12, time:5\n",
      "fetch from 2017/1, time:2\n",
      "fetch from 2017/2, time:2\n",
      "fetch from 2017/3, time:3\n",
      "fetch from 2017/4, time:1\n",
      "fetch from 2017/5, time:1\n",
      "fetch from 2017/6, time:4\n",
      "fetch from 2017/7, time:2\n",
      "fetch from 2017/8, time:4\n",
      "fetch from 2017/9, time:3\n",
      "fetch from 2017/10, time:3\n",
      "fetch from 2017/11, time:0\n",
      "fetch from 2017/12, time:3\n",
      "fetch from 2018/1, time:3\n",
      "fetch from 2018/2, time:1\n",
      "fetch from 2018/3, time:2\n",
      "fetch from 2018/4, time:1\n",
      "fetch from 2018/5, time:4\n",
      "fetch from 2018/6, time:1\n",
      "fetch from 2018/7, time:3\n",
      "fetch from 2018/8, time:0\n",
      "fetch from 2018/9, time:1\n",
      "fetch from 2018/10, time:1\n",
      "fetch from 2018/11, time:1\n",
      "fetch from 2018/12, time:0\n",
      "fetch from 2019/1, time:3\n",
      "fetch from 2019/2, time:3\n",
      "fetch from 2019/3, time:4\n",
      "fetch from 2019/4, time:4\n",
      "fetch from 2019/5, time:4\n",
      "fetch from 2019/6, time:4\n",
      "fetch from 2019/7, time:5\n",
      "fetch from 2019/8, time:0\n",
      "fetch from 2019/9, time:3\n",
      "fetch from 2019/10, time:0\n",
      "fetch from 2019/11, time:5\n",
      "fetch from 2019/12, time:2\n",
      "fetch from 2020/1, time:0\n",
      "fetch from 2020/2, time:2\n",
      "fetch from 2020/3, time:4\n",
      "fetch from 2020/4, time:5\n",
      "fetch from 2020/5, time:1\n",
      "fetch from 2020/6, time:5\n",
      "fetch from 2020/7, time:0\n"
     ]
    }
   ],
   "source": [
    "import twstock\n",
    "import pandas as pd\n",
    "\n",
    "# 這是抓取歷史資料\n",
    "stockNumberID = '2892'\n",
    "stock = twstock.Stock(stockNumberID)\n",
    "info = twstock.codes[stockNumberID] \n",
    "stock_from = stock.fetch_from(2010,1)     # 獲取 2010 年 01 月至今日之股票資料\n",
    "stock_from_pd = pd.DataFrame(stock_from)\n",
    "stock_from_pd = stock_from_pd.set_index('date')"
   ]
  },
  {
   "cell_type": "code",
   "execution_count": 13,
   "metadata": {},
   "outputs": [
    {
     "name": "stdout",
     "output_type": "stream",
     "text": [
      "<class 'pandas.core.frame.DataFrame'>\n",
      "27.25\n",
      "14.15\n",
      "2585\n"
     ]
    },
    {
     "data": {
      "text/html": [
       "<div>\n",
       "<style scoped>\n",
       "    .dataframe tbody tr th:only-of-type {\n",
       "        vertical-align: middle;\n",
       "    }\n",
       "\n",
       "    .dataframe tbody tr th {\n",
       "        vertical-align: top;\n",
       "    }\n",
       "\n",
       "    .dataframe thead th {\n",
       "        text-align: right;\n",
       "    }\n",
       "</style>\n",
       "<table border=\"1\" class=\"dataframe\">\n",
       "  <thead>\n",
       "    <tr style=\"text-align: right;\">\n",
       "      <th></th>\n",
       "      <th>capacity</th>\n",
       "      <th>turnover</th>\n",
       "      <th>open</th>\n",
       "      <th>high</th>\n",
       "      <th>low</th>\n",
       "      <th>close</th>\n",
       "      <th>change</th>\n",
       "      <th>transaction</th>\n",
       "    </tr>\n",
       "    <tr>\n",
       "      <th>date</th>\n",
       "      <th></th>\n",
       "      <th></th>\n",
       "      <th></th>\n",
       "      <th></th>\n",
       "      <th></th>\n",
       "      <th></th>\n",
       "      <th></th>\n",
       "      <th></th>\n",
       "    </tr>\n",
       "  </thead>\n",
       "  <tbody>\n",
       "    <tr>\n",
       "      <th>2010-01-04</th>\n",
       "      <td>15465745</td>\n",
       "      <td>306440450</td>\n",
       "      <td>19.85</td>\n",
       "      <td>19.95</td>\n",
       "      <td>19.70</td>\n",
       "      <td>19.75</td>\n",
       "      <td>-0.10</td>\n",
       "      <td>3319</td>\n",
       "    </tr>\n",
       "    <tr>\n",
       "      <th>2010-01-05</th>\n",
       "      <td>14942565</td>\n",
       "      <td>296635592</td>\n",
       "      <td>20.00</td>\n",
       "      <td>20.00</td>\n",
       "      <td>19.75</td>\n",
       "      <td>19.90</td>\n",
       "      <td>0.15</td>\n",
       "      <td>2836</td>\n",
       "    </tr>\n",
       "    <tr>\n",
       "      <th>2010-01-06</th>\n",
       "      <td>31840519</td>\n",
       "      <td>635808292</td>\n",
       "      <td>19.95</td>\n",
       "      <td>20.15</td>\n",
       "      <td>19.80</td>\n",
       "      <td>20.15</td>\n",
       "      <td>0.25</td>\n",
       "      <td>5020</td>\n",
       "    </tr>\n",
       "    <tr>\n",
       "      <th>2010-01-07</th>\n",
       "      <td>20566752</td>\n",
       "      <td>411574859</td>\n",
       "      <td>20.15</td>\n",
       "      <td>20.20</td>\n",
       "      <td>19.85</td>\n",
       "      <td>19.85</td>\n",
       "      <td>-0.30</td>\n",
       "      <td>4023</td>\n",
       "    </tr>\n",
       "    <tr>\n",
       "      <th>2010-01-08</th>\n",
       "      <td>16715680</td>\n",
       "      <td>333152389</td>\n",
       "      <td>19.80</td>\n",
       "      <td>20.10</td>\n",
       "      <td>19.80</td>\n",
       "      <td>19.95</td>\n",
       "      <td>0.10</td>\n",
       "      <td>3169</td>\n",
       "    </tr>\n",
       "  </tbody>\n",
       "</table>\n",
       "</div>"
      ],
      "text/plain": [
       "            capacity   turnover   open   high    low  close  change  \\\n",
       "date                                                                  \n",
       "2010-01-04  15465745  306440450  19.85  19.95  19.70  19.75   -0.10   \n",
       "2010-01-05  14942565  296635592  20.00  20.00  19.75  19.90    0.15   \n",
       "2010-01-06  31840519  635808292  19.95  20.15  19.80  20.15    0.25   \n",
       "2010-01-07  20566752  411574859  20.15  20.20  19.85  19.85   -0.30   \n",
       "2010-01-08  16715680  333152389  19.80  20.10  19.80  19.95    0.10   \n",
       "\n",
       "            transaction  \n",
       "date                     \n",
       "2010-01-04         3319  \n",
       "2010-01-05         2836  \n",
       "2010-01-06         5020  \n",
       "2010-01-07         4023  \n",
       "2010-01-08         3169  "
      ]
     },
     "execution_count": 13,
     "metadata": {},
     "output_type": "execute_result"
    }
   ],
   "source": [
    "print(type(stock_from_pd))\n",
    "print(stock_from_pd.loc[stock_from_pd['close'].idxmax()].close)\n",
    "print(stock_from_pd.loc[stock_from_pd['close'].idxmin()].close)\n",
    "print(len(stock_from_pd))\n",
    "stock_from_pd.head()"
   ]
  },
  {
   "cell_type": "code",
   "execution_count": 15,
   "metadata": {},
   "outputs": [
    {
     "name": "stderr",
     "output_type": "stream",
     "text": [
      "C:\\Users\\joyts\\AppData\\Local\\Programs\\Python\\Python36\\Lib\\site-packages\\matplotlib\\figure.py:445: UserWarning: Matplotlib is currently using module://ipykernel.pylab.backend_inline, which is a non-GUI backend, so cannot show the figure.\n",
      "  % get_backend())\n"
     ]
    },
    {
     "data": {
      "image/png": "[encoded data removed]",
      "text/plain": [
       "<Figure size 720x720 with 2 Axes>"
      ]
     },
     "metadata": {
      "needs_background": "light"
     },
     "output_type": "display_data"
    }
   ],
   "source": [
    "import matplotlib.pyplot as plt\n",
    "import numpy as np\n",
    "from scipy.signal import argrelextrema\n",
    "from sklearn import linear_model\n",
    "import datetime as dt\n",
    "from sklearn.linear_model import LinearRegression\n",
    "\n",
    "#設定中文字型\n",
    "font = {'family' : 'DFKai-SB',\n",
    "'weight' : 'bold',\n",
    "'size'  : '14'}\n",
    "plt.rc('font', **font) # pass in the font dict as kwargs\n",
    "plt.rc('axes',unicode_minus=False)\n",
    "\n",
    "#畫圖\n",
    "fig, (ax1, ax2) = plt.subplots(2, gridspec_kw={'height_ratios': [3, 1]},figsize=(10, 10))\n",
    "stockTitle = info.name + '股份 開盤/收盤 價曲線'\n",
    "fig.suptitle(stockTitle)\n",
    "\n",
    "#setting index as date\n",
    "# print(stock_from_pd.info(verbose=True))\n",
    "# print(stock_from_pd.head())\n",
    "# df = stock_from_pd.reset_index()\n",
    "# print(df.head())\n",
    "\n",
    "# Find local peaks\n",
    "n=5 # number of points to be checked before and after \n",
    "stock_from_pd['min'] = stock_from_pd.iloc[argrelextrema(stock_from_pd.close.values, np.less_equal, order=n)[0]]['close']\n",
    "stock_from_pd['max'] = stock_from_pd.iloc[argrelextrema(stock_from_pd.close.values, np.greater_equal, order=n)[0]]['close']\n",
    "\n",
    "# Plot results\n",
    "ax1.scatter(stock_from_pd.index, stock_from_pd['max'], label=\"高峰值\", c='tab:red')\n",
    "ax1.scatter(stock_from_pd.index, stock_from_pd['min'], label=\"低峰值\", c='tab:green')\n",
    "\n",
    "#Linear Regression\n",
    "regr=linear_model.LinearRegression()\n",
    "highData = stock_from_pd['max'].dropna()\n",
    "X = highData.index.factorize()[0].reshape(-1,1)\n",
    "y = highData.values\n",
    "regr.fit(X,y)\n",
    "arrPredict = regr.predict(X)\n",
    "dataframePredict = pd.DataFrame({'Predict':arrPredict})\n",
    "dataframehighData = pd.DataFrame(highData)\n",
    "dataframehighData['Predict'] = dataframePredict['Predict'].values\n",
    "ax1.plot(dataframehighData.Predict, '-' , label=\"高峰回歸線\", c='tab:red')\n",
    "\n",
    "lowData = stock_from_pd['min'].dropna()\n",
    "_X = lowData.index.factorize()[0].reshape(-1,1)\n",
    "_y = lowData.values\n",
    "regr.fit(_X,_y)\n",
    "_arrPredict = regr.predict(_X)\n",
    "_dataframePredict = pd.DataFrame({'Predict':_arrPredict})\n",
    "dataframelowData = pd.DataFrame(lowData)\n",
    "dataframelowData['Predict'] = _dataframePredict['Predict'].values\n",
    "ax1.plot(dataframelowData.Predict, '-' , label=\"低峰回歸線\", c='tab:green')\n",
    "\n",
    "\n",
    "ax1.plot(stock_from_pd.open, '-' , label=\"開盤價\", c='tab:olive')\n",
    "ax1.plot(stock_from_pd.close, '-' , label=\"收盤價\", c='tab:cyan')\n",
    "ax1.set_ylabel('價位')\n",
    "ax1.grid(True, axis='y')\n",
    "ax1.legend()\n",
    "ax2.set_xlabel('日期')\n",
    "ax2.set_ylabel('張數')\n",
    "ax2.grid(True, axis='y')\n",
    "ax2.plot(stock_from_pd.capacity, '-' , label=\"交易量\", c='m')\n",
    "ax2.legend()\n",
    "\n",
    "fig.savefig('day20_01.png')\n",
    "fig.show()"
   ]
  },
  {
   "cell_type": "markdown",
   "metadata": {},
   "source": [
    "#  瑞耘\n",
    "* 四大買賣點分析"
   ]
  },
  {
   "cell_type": "code",
   "execution_count": null,
   "metadata": {
    "scrolled": true
   },
   "outputs": [],
   "source": [
    "import twstock\n",
    "from twstock import Stock\n",
    "from twstock import BestFourPoint\n",
    "import pandas as pd\n",
    "import numpy as np\n",
    "\n",
    "print(twstock.codes['6532'].name)\n",
    "print(twstock.codes['6532'].start)\n",
    "print(twstock.codes['6532'])   \n",
    "\n",
    "stock = Stock('6532')               # 擷取股價\n",
    "bfp = BestFourPoint(stock)\n",
    "print('\\n判斷是否為四大 買點')\n",
    "print(bfp.best_four_point_to_buy())    # 判斷是否為四大買點\n",
    "print('\\n判斷是否為四大 賣點')\n",
    "print(bfp.best_four_point_to_sell())   # 判斷是否為四大賣點\n",
    "print('\\n綜合判斷')\n",
    "print(bfp.best_four_point())           # 綜合判斷\n",
    "\n",
    "ma_p = stock.moving_average(stock.price, 5)       # 計算五日均價\n",
    "ma_c = stock.moving_average(stock.capacity, 5)    # 計算五日均量\n",
    "ma_p_cont = stock.continuous(ma_p)                # 計算五日均價持續天數\n",
    "ma_br = stock.ma_bias_ratio(5, 10)                # 計算五日、十日乖離值\n",
    "d = {'ma_p': ma_p, 'ma_c': ma_c}\n",
    "df = pd.DataFrame(data=d)\n",
    "print('\\n計算五日均價持續天數:')\n",
    "print(ma_p_cont)\n",
    "print('\\n計算 ma_p(五日均價) ma_c(五日均量):')\n",
    "print(df)\n",
    "\n",
    "twstock.realtime.get('6532')    # 擷取當前股票資訊\n",
    "twstock.realtime.get(['6532'])  # 擷取當前三檔資訊"
   ]
  },
  {
   "cell_type": "markdown",
   "metadata": {},
   "source": [
    "## 基本操作\n",
    "* 匯入twstock library:"
   ]
  },
  {
   "cell_type": "code",
   "execution_count": null,
   "metadata": {},
   "outputs": [],
   "source": [
    "from twstock import Stock\n",
    "\n",
    "stock = Stock('2892')                             # 擷取第一金股價\n",
    "ma_p = stock.moving_average(stock.price, 5)       # 計算五日均價\n",
    "ma_c = stock.moving_average(stock.capacity, 5)    # 計算五日均量\n",
    "ma_p_cont = stock.continuous(ma_p)                # 計算五日均價持續天數\n",
    "ma_br = stock.ma_bias_ratio(5, 10)                # 計算五日、十日乖離值"
   ]
  },
  {
   "cell_type": "code",
   "execution_count": null,
   "metadata": {},
   "outputs": [],
   "source": [
    "ma_p_cont"
   ]
  },
  {
   "cell_type": "code",
   "execution_count": null,
   "metadata": {},
   "outputs": [],
   "source": [
    "import pandas as pd\n",
    "import numpy as np\n",
    "d = {'ma_p': ma_p, 'ma_c': ma_c}\n",
    "df = pd.DataFrame(data=d)\n",
    "df"
   ]
  },
  {
   "cell_type": "code",
   "execution_count": null,
   "metadata": {},
   "outputs": [],
   "source": [
    "import pandas as pd\n",
    "import numpy as np\n",
    "\n",
    "d = {'ma_br': ma_br}\n",
    "df = pd.DataFrame(data=d)\n",
    "df"
   ]
  },
  {
   "cell_type": "markdown",
   "metadata": {},
   "source": [
    "* 擷取自 2015 年 1 月至今之資料"
   ]
  },
  {
   "cell_type": "code",
   "execution_count": null,
   "metadata": {},
   "outputs": [],
   "source": [
    "stock.fetch_from(2015, 1)"
   ]
  },
  {
   "cell_type": "markdown",
   "metadata": {},
   "source": [
    "* 基本資料之使用:"
   ]
  },
  {
   "cell_type": "code",
   "execution_count": null,
   "metadata": {},
   "outputs": [],
   "source": [
    "stock.price"
   ]
  },
  {
   "cell_type": "code",
   "execution_count": null,
   "metadata": {},
   "outputs": [],
   "source": [
    "stock.capacity"
   ]
  },
  {
   "cell_type": "code",
   "execution_count": null,
   "metadata": {},
   "outputs": [],
   "source": [
    "stock.data[0]"
   ]
  },
  {
   "cell_type": "markdown",
   "metadata": {},
   "source": [
    "------\n",
    "\n",
    "## 附件：Juypter Notebook 基本操作 "
   ]
  },
  {
   "cell_type": "markdown",
   "metadata": {},
   "source": [
    "### Jupyter Notebook 基本操作介紹影片:"
   ]
  },
  {
   "cell_type": "code",
   "execution_count": null,
   "metadata": {},
   "outputs": [],
   "source": [
    "%%HTML\n",
    "<iframe width=\"560\" height=\"315\" src=\"https://www.youtube.com/embed/HW29067qVWk\" frameborder=\"0\" allow=\"accelerometer; autoplay; encrypted-media; gyroscope; picture-in-picture\" allowfullscreen></iframe>"
   ]
  },
  {
   "cell_type": "markdown",
   "metadata": {},
   "source": [
    "------\n",
    "### Juypter % 及 %% 外掛程式運用:"
   ]
  },
  {
   "cell_type": "code",
   "execution_count": null,
   "metadata": {
    "scrolled": true
   },
   "outputs": [],
   "source": [
    "%lsmagic"
   ]
  },
  {
   "cell_type": "markdown",
   "metadata": {},
   "source": [
    "### 圖表基本操作 (matplot library):"
   ]
  },
  {
   "cell_type": "code",
   "execution_count": null,
   "metadata": {
    "scrolled": true
   },
   "outputs": [],
   "source": [
    "%matplotlib inline\n",
    "import numpy as np\n",
    "import matplotlib.pyplot as plt\n",
    "\n",
    "N = 50\n",
    "x = np.random.rand(N)\n",
    "y = np.random.rand(N)\n",
    "colors = np.random.rand(N)\n",
    "area = np.pi * (15 * np.random.rand(N))**2\n",
    "\n",
    "plt.scatter(x, y, s=area, c=colors, alpha=0.5)\n",
    "plt.show()"
   ]
  },
  {
   "cell_type": "markdown",
   "metadata": {},
   "source": [
    "### 計算時間:"
   ]
  },
  {
   "cell_type": "code",
   "execution_count": null,
   "metadata": {},
   "outputs": [],
   "source": [
    "%%timeit\n",
    "square_evens = [n*n for n in range(1000)]"
   ]
  },
  {
   "cell_type": "markdown",
   "metadata": {},
   "source": [
    "### 資料呈現(panda):"
   ]
  },
  {
   "cell_type": "markdown",
   "metadata": {},
   "source": [
    "* 解決ImportError: cannot import name 'nosetester'問題:\n",
    "  * numpy 1.11.1 version\n",
    "    * pip3 uninstall numpy\n",
    "    * pip3 install numpy==1.11.1\n",
    "  * pandas 0.19.2 version \n",
    "    * pip3 uninstall pandas\n",
    "    * pip3 install pandas==0.19.2"
   ]
  },
  {
   "cell_type": "code",
   "execution_count": null,
   "metadata": {},
   "outputs": [],
   "source": [
    "import pandas as pd\n",
    "import numpy as np\n",
    "\n",
    "df = pd.DataFrame(np.random.randn(10,5))\n",
    "df.head()\n"
   ]
  }
 ],
 "metadata": {
  "anaconda-cloud": {},
  "celltoolbar": "Raw Cell Format",
  "kernelspec": {
   "display_name": "Python 3",
   "language": "python",
   "name": "python3"
  },
  "language_info": {
   "codemirror_mode": {
    "name": "ipython",
    "version": 3
   },
   "file_extension": ".py",
   "mimetype": "text/x-python",
   "name": "python",
   "nbconvert_exporter": "python",
   "pygments_lexer": "ipython3",
   "version": "3.6.5"
  }
 },
 "nbformat": 4,
 "nbformat_minor": 1
}
