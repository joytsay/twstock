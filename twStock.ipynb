{
 "cells": [
  {
   "cell_type": "markdown",
   "metadata": {
    "collapsed": true
   },
   "source": [
    "# twStock notebook\n",
    "\n",
    "------\n",
    "\n",
    "\n",
    "## 目的\n",
    "1. 擷取台股即時資料分析\n",
    "2. 分析個股定期不定額\n",
    "3. **注意台股TWSE 有request limit** _(每5秒鐘3個request,過的話會被封鎖ip至少20分鐘以上)_\n",
    "------"
   ]
  },
  {
   "cell_type": "markdown",
   "metadata": {},
   "source": [
    "#  瑞耘\n",
    "* 四大買賣點分析"
   ]
  },
  {
   "cell_type": "code",
   "execution_count": 15,
   "metadata": {
    "scrolled": true
   },
   "outputs": [
    {
     "name": "stdout",
     "output_type": "stream",
     "text": [
      "瑞耘\n",
      "2016/09/26\n",
      "StockCodeInfo(type='股票', code='6532', name='瑞耘', ISIN='TW0006532005', start='2016/09/26', market='上櫃', group='半導體業', CFI='ESVUFR')\n",
      "\n",
      "判斷是否為四大 買點\n",
      "量大收紅, 三日均價大於六日均價\n",
      "\n",
      "判斷是否為四大 賣點\n",
      "False\n",
      "\n",
      "綜合判斷\n",
      "(True, '量大收紅, 三日均價大於六日均價')\n",
      "\n",
      "計算五日均價持續天數:\n",
      "26\n",
      "\n",
      "計算 ma_p(五日均價) ma_c(五日均量):\n",
      "     ma_p       ma_c\n",
      "0   30.00   887800.0\n",
      "1   30.62   905000.0\n",
      "2   31.55   823400.0\n",
      "3   31.93   763600.0\n",
      "4   32.03   501000.0\n",
      "5   32.14   427400.0\n",
      "6   32.99   423200.0\n",
      "7   33.94   781400.0\n",
      "8   34.83   858000.0\n",
      "9   35.88   927400.0\n",
      "10  36.76   967600.0\n",
      "11  37.09  1033200.0\n",
      "12  37.27   715400.0\n",
      "13  37.68   879400.0\n",
      "14  38.03  1172600.0\n",
      "15  38.44  1193200.0\n",
      "16  38.54  1200200.0\n",
      "17  38.86  1421200.0\n",
      "18  39.24  1312200.0\n",
      "19  39.47  1018800.0\n",
      "20  40.33  1263600.0\n",
      "21  41.91  1732800.0\n",
      "22  43.27  1805400.0\n",
      "23  44.42  1852400.0\n",
      "24  45.83  2184800.0\n",
      "25  46.94  2297200.0\n",
      "26  48.52  2758000.0\n"
     ]
    },
    {
     "data": {
      "text/plain": [
       "{'6532': {'timestamp': 1588833000.0,\n",
       "  'info': {'code': '6532',\n",
       "   'channel': '6532.tw',\n",
       "   'name': '瑞耘',\n",
       "   'fullname': '瑞耘科技股份有限公司',\n",
       "   'time': '2020-05-07 14:30:00'},\n",
       "  'realtime': {'latest_trade_price': '-',\n",
       "   'trade_volume': '-',\n",
       "   'accumulate_trade_volume': '3422',\n",
       "   'best_bid_price': ['59.2000', '59.1000', '59.0000', '58.9000', '58.8000'],\n",
       "   'best_bid_volume': ['637', '2', '3', '7', '4'],\n",
       "   'best_ask_price': ['-'],\n",
       "   'best_ask_volume': ['-'],\n",
       "   'open': '56.8000',\n",
       "   'high': '59.2000',\n",
       "   'low': '55.8000'},\n",
       "  'success': True},\n",
       " 'success': True}"
      ]
     },
     "execution_count": 15,
     "metadata": {},
     "output_type": "execute_result"
    }
   ],
   "source": [
    "import twstock\n",
    "from twstock import Stock\n",
    "from twstock import BestFourPoint\n",
    "import pandas as pd\n",
    "import numpy as np\n",
    "\n",
    "print(twstock.codes['6532'].name)\n",
    "print(twstock.codes['6532'].start)\n",
    "print(twstock.codes['6532'])   \n",
    "\n",
    "stock = Stock('6532')               # 擷取股價\n",
    "bfp = BestFourPoint(stock)\n",
    "print('\\n判斷是否為四大 買點')\n",
    "print(bfp.best_four_point_to_buy())    # 判斷是否為四大買點\n",
    "print('\\n判斷是否為四大 賣點')\n",
    "print(bfp.best_four_point_to_sell())   # 判斷是否為四大賣點\n",
    "print('\\n綜合判斷')\n",
    "print(bfp.best_four_point())           # 綜合判斷\n",
    "\n",
    "ma_p = stock.moving_average(stock.price, 5)       # 計算五日均價\n",
    "ma_c = stock.moving_average(stock.capacity, 5)    # 計算五日均量\n",
    "ma_p_cont = stock.continuous(ma_p)                # 計算五日均價持續天數\n",
    "ma_br = stock.ma_bias_ratio(5, 10)                # 計算五日、十日乖離值\n",
    "d = {'ma_p': ma_p, 'ma_c': ma_c}\n",
    "df = pd.DataFrame(data=d)\n",
    "print('\\n計算五日均價持續天數:')\n",
    "print(ma_p_cont)\n",
    "print('\\n計算 ma_p(五日均價) ma_c(五日均量):')\n",
    "print(df)\n",
    "\n",
    "twstock.realtime.get('6532')    # 擷取當前股票資訊\n",
    "twstock.realtime.get(['6532'])  # 擷取當前三檔資訊"
   ]
  },
  {
   "cell_type": "markdown",
   "metadata": {},
   "source": [
    "## 基本操作\n",
    "* 匯入twstock library:"
   ]
  },
  {
   "cell_type": "code",
   "execution_count": null,
   "metadata": {},
   "outputs": [],
   "source": [
    "from twstock import Stock\n",
    "\n",
    "stock = Stock('2892')                             # 擷取第一金股價\n",
    "ma_p = stock.moving_average(stock.price, 5)       # 計算五日均價\n",
    "ma_c = stock.moving_average(stock.capacity, 5)    # 計算五日均量\n",
    "ma_p_cont = stock.continuous(ma_p)                # 計算五日均價持續天數\n",
    "ma_br = stock.ma_bias_ratio(5, 10)                # 計算五日、十日乖離值"
   ]
  },
  {
   "cell_type": "code",
   "execution_count": null,
   "metadata": {},
   "outputs": [],
   "source": [
    "ma_p_cont"
   ]
  },
  {
   "cell_type": "code",
   "execution_count": null,
   "metadata": {},
   "outputs": [],
   "source": [
    "import pandas as pd\n",
    "import numpy as np\n",
    "d = {'ma_p': ma_p, 'ma_c': ma_c}\n",
    "df = pd.DataFrame(data=d)\n",
    "df"
   ]
  },
  {
   "cell_type": "code",
   "execution_count": null,
   "metadata": {},
   "outputs": [],
   "source": [
    "import pandas as pd\n",
    "import numpy as np\n",
    "\n",
    "d = {'ma_br': ma_br}\n",
    "df = pd.DataFrame(data=d)\n",
    "df"
   ]
  },
  {
   "cell_type": "markdown",
   "metadata": {},
   "source": [
    "* 擷取自 2015 年 1 月至今之資料"
   ]
  },
  {
   "cell_type": "code",
   "execution_count": null,
   "metadata": {},
   "outputs": [],
   "source": [
    "stock.fetch_from(2015, 1)"
   ]
  },
  {
   "cell_type": "markdown",
   "metadata": {},
   "source": [
    "* 基本資料之使用:"
   ]
  },
  {
   "cell_type": "code",
   "execution_count": null,
   "metadata": {
    "collapsed": true
   },
   "outputs": [],
   "source": [
    "stock.price"
   ]
  },
  {
   "cell_type": "code",
   "execution_count": null,
   "metadata": {
    "collapsed": true
   },
   "outputs": [],
   "source": [
    "stock.capacity"
   ]
  },
  {
   "cell_type": "code",
   "execution_count": null,
   "metadata": {
    "collapsed": true
   },
   "outputs": [],
   "source": [
    "stock.data[0]"
   ]
  },
  {
   "cell_type": "markdown",
   "metadata": {},
   "source": [
    "------\n",
    "\n",
    "## 附件：Juypter Notebook 基本操作 "
   ]
  },
  {
   "cell_type": "markdown",
   "metadata": {},
   "source": [
    "### Jupyter Notebook 基本操作介紹影片:"
   ]
  },
  {
   "cell_type": "code",
   "execution_count": null,
   "metadata": {},
   "outputs": [],
   "source": [
    "%%HTML\n",
    "<iframe width=\"560\" height=\"315\" src=\"https://www.youtube.com/embed/HW29067qVWk\" frameborder=\"0\" allow=\"accelerometer; autoplay; encrypted-media; gyroscope; picture-in-picture\" allowfullscreen></iframe>"
   ]
  },
  {
   "cell_type": "markdown",
   "metadata": {},
   "source": [
    "------\n",
    "### Juypter % 及 %% 外掛程式運用:"
   ]
  },
  {
   "cell_type": "code",
   "execution_count": null,
   "metadata": {
    "scrolled": true
   },
   "outputs": [],
   "source": [
    "%lsmagic"
   ]
  },
  {
   "cell_type": "markdown",
   "metadata": {},
   "source": [
    "### 圖表基本操作 (matplot library):"
   ]
  },
  {
   "cell_type": "code",
   "execution_count": null,
   "metadata": {
    "scrolled": true
   },
   "outputs": [],
   "source": [
    "%matplotlib inline\n",
    "import numpy as np\n",
    "import matplotlib.pyplot as plt\n",
    "\n",
    "N = 50\n",
    "x = np.random.rand(N)\n",
    "y = np.random.rand(N)\n",
    "colors = np.random.rand(N)\n",
    "area = np.pi * (15 * np.random.rand(N))**2\n",
    "\n",
    "plt.scatter(x, y, s=area, c=colors, alpha=0.5)\n",
    "plt.show()"
   ]
  },
  {
   "cell_type": "markdown",
   "metadata": {},
   "source": [
    "### 計算時間:"
   ]
  },
  {
   "cell_type": "code",
   "execution_count": null,
   "metadata": {},
   "outputs": [],
   "source": [
    "%%timeit\n",
    "square_evens = [n*n for n in range(1000)]"
   ]
  },
  {
   "cell_type": "markdown",
   "metadata": {},
   "source": [
    "### 資料呈現(panda):"
   ]
  },
  {
   "cell_type": "markdown",
   "metadata": {},
   "source": [
    "* 解決ImportError: cannot import name 'nosetester'問題:\n",
    "  * numpy 1.11.1 version\n",
    "    * pip3 uninstall numpy\n",
    "    * pip3 install numpy==1.11.1\n",
    "  * pandas 0.19.2 version \n",
    "    * pip3 uninstall pandas\n",
    "    * pip3 install pandas==0.19.2"
   ]
  },
  {
   "cell_type": "code",
   "execution_count": null,
   "metadata": {},
   "outputs": [],
   "source": [
    "import pandas as pd\n",
    "import numpy as np\n",
    "\n",
    "df = pd.DataFrame(np.random.randn(10,5))\n",
    "df.head()\n"
   ]
  }
 ],
 "metadata": {
  "anaconda-cloud": {},
  "celltoolbar": "Raw Cell Format",
  "kernelspec": {
   "display_name": "Python 3",
   "language": "python",
   "name": "python3"
  },
  "language_info": {
   "codemirror_mode": {
    "name": "ipython",
    "version": 3
   },
   "file_extension": ".py",
   "mimetype": "text/x-python",
   "name": "python",
   "nbconvert_exporter": "python",
   "pygments_lexer": "ipython3",
   "version": "3.6.5"
  }
 },
 "nbformat": 4,
 "nbformat_minor": 1
}
